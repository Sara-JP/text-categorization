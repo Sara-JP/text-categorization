{
 "cells": [
  {
   "cell_type": "markdown",
   "metadata": {},
   "source": [
    "<h1 align=center style=\"line-height:200%;font-family:vazir;color:#0099cc\">\n",
    "<font face=\"vazir\" color=\"#0099cc\">\n",
    "موضوع‌بندی\n",
    "</font>\n",
    "</h1>"
   ]
  },
  {
   "cell_type": "markdown",
   "metadata": {},
   "source": [
    "<h2 align=right style=\"line-height:200%;font-family:vazir;color:#0099cc\">\n",
    "<font face=\"vazir\" color=\"#0099cc\">\n",
    "مقدمه و صورت مسئله\n",
    "</font>\n",
    "</h2>\n",
    "\n",
    "<p dir=rtl style=\"direction: rtl; text-align: justify; line-height:200%; font-family:vazir; font-size:medium\">\n",
    "<font face=\"vazir\" size=3>\n",
    "به یک تمرین صنعتی از  کاربرد یادگیری ماشین در پردازش زبان طبیعی (NLP) خوش آمدید.  در این تمرین داده‌های واقعی وب فارسی که توسط پلتفرم <a href=\"https://www.yektanet.com/\">یکتانت</a> پالایش و جمع‌آوری شده در اختیار ما قرار گرفته است. هدف تمرین؛ ساخت یک مدل یادگیری ماشین است که با توجه متن‌های موجود در یک پیوند (Link) نظیر <i>عنوان</i>، <i>توضیحات</i>، <i>محتوای متنی [کامل]</i> و غیره بتواند دسته‌ی موضوعی آن سند را پیش‌بینی کند. به‌عنوان مثال اگر پیوندی از یک سایت خبری با عنوان «<i>کیهان کلهر جایزه مرد سال موسیقی جهان را دریافت کرد</i>» داشته باشیم، مدل ما باید پیش‌بینی کند که این مطلب مرتبط با موضوع «موسیقی» است. البته در این مثال ما تنها از ویژگی <i>عنوان</i> یاد کردیم، در حالی‌که می‌توان از متن <i>توضیحات</i> یا <i>محتوای متنی</i> هم کمک گرفت. \n",
    "\n",
    "</br>\n",
    "توجه داشته باشید برای آن‌که بتوانید از الگوریتم‌های معرفی‌شده در کالج جهت کار روی داده‌های متنی استفاده کنید نیاز است حداقل با یکی از روش‌های تعبیه‌سازی (Embedding) آشنا شده باشید تا بتوانید هر متن را به یک بردار ویژگی عددی تبدیل کنید.\n",
    "\n",
    "</font>\n",
    "</p>"
   ]
  },
  {
   "cell_type": "markdown",
   "metadata": {},
   "source": [
    "<h2 align=right style=\"line-height:200%;font-family:vazir;color:#0099cc\">\n",
    "<font face=\"vazir\" color=\"#0099cc\">\n",
    "وارد کردن کتابخانه‌های مورد نیاز\n",
    "</font>\n",
    "</h2>\n",
    "\n",
    "<p dir=rtl style=\"direction: rtl; text-align: justify; line-height:200%; font-family:vazir; font-size:medium\">\n",
    "<font face=\"vazir\" size=3>\n",
    "    ابتدا کتابخانه‌های مورد نیازتان را وارد کنید.\n",
    "</font>\n",
    "</p>"
   ]
  },
  {
   "cell_type": "code",
   "execution_count": 1,
   "metadata": {},
   "outputs": [],
   "source": [
    "import numpy as np\n",
    "import pandas as pd\n",
    "from hazm import *"
   ]
  },
  {
   "cell_type": "markdown",
   "metadata": {},
   "source": [
    "<h2 align=right style=\"line-height:200%;font-family:vazir;color:#0099cc\">\n",
    "<font face=\"vazir\" color=\"#0099cc\">\n",
    "معرفی مجموعه‌داده\n",
    "</font>\n",
    "</h2>\n",
    "\n",
    "<p dir=rtl style=\"direction: rtl; text-align: justify; line-height:200%; font-family:vazir; font-size:medium\">\n",
    "<font face=\"vazir\" size=3>\n",
    "    هر نمونه از این مجموعه‌داده با ویژگی‌هایی که در جدول زیر شرح داده شده همراه است. ستون <code>category</code> متغیر هدف مسئله است که موضوع محتوا را نشان می‌دهد. \n",
    "</font>\n",
    "</p>\n",
    "<center>\n",
    "<div dir=rtl style=\"direction: rtl;line-height:200%;font-family:vazir;font-size:medium\">\n",
    "<font face=\"vazir\" size=3>\n",
    "    \n",
    "|ستون|توضیحات|\n",
    "|:------:|:---:|\n",
    "|<code>category</code>| موضوع (متغیر هدف) |\n",
    "|<code>description</code>| توضیحات |\n",
    "|<code>text_content</code>| محتوای متنی |\n",
    "|<code>title</code>| عنوان |\n",
    "|<code>h1</code>| محتوای تگ <code>h1</code> صفحه |\n",
    "|<code>h2</code>|محتوای تگ <code>h2</code> صفحه  |\n",
    "|<code>url</code>| آدرس پیوند|\n",
    "|<code>domain</code>|دامنه‌ی وب‌سایت |\n",
    "|<code>id</code>|آیدی پیوند|\n",
    "\n",
    "</font>\n",
    "</div>\n",
    "</center>"
   ]
  },
  {
   "cell_type": "markdown",
   "metadata": {},
   "source": [
    "<h2 align=right style=\"line-height:200%;font-family:vazir;color:#0099cc\">\n",
    "<font face=\"vazir\" color=\"#0099cc\">\n",
    "خواندن مجموعه داده\n",
    "</font>\n",
    "</h2>\n",
    "\n",
    "<p dir=rtl style=\"direction: rtl; text-align: justify; line-height:200%; font-family:vazir; font-size:medium\">\n",
    "<font face=\"vazir\" size=3>\n",
    "    در ابتدا نیاز است فایل‌های مجموعه‌داده را بخوانید. نمونه‌های آموزشی در فایل <code>yektanet_train.csv</code> و نمونه‌های آزمون که باید موضوع آن‌ها را پیش‌بینی کنید در فایل <code>yektanet_test.csv</code> ذخیره شده‌اند. اگر لازم دانستید می‌توانید به دلخواه خود بخشی از مجموعه‌ی آموزشی را به عنوان مجموعه‌ی اعتبارسنجی نیز جدا کنید.\n",
    "</font>\n",
    "</p>"
   ]
  },
  {
   "cell_type": "code",
   "execution_count": 2,
   "metadata": {},
   "outputs": [
    {
     "data": {
      "text/html": [
       "<div>\n",
       "<style scoped>\n",
       "    .dataframe tbody tr th:only-of-type {\n",
       "        vertical-align: middle;\n",
       "    }\n",
       "\n",
       "    .dataframe tbody tr th {\n",
       "        vertical-align: top;\n",
       "    }\n",
       "\n",
       "    .dataframe thead th {\n",
       "        text-align: right;\n",
       "    }\n",
       "</style>\n",
       "<table border=\"1\" class=\"dataframe\">\n",
       "  <thead>\n",
       "    <tr style=\"text-align: right;\">\n",
       "      <th></th>\n",
       "      <th>category</th>\n",
       "      <th>description</th>\n",
       "      <th>text_content</th>\n",
       "      <th>title</th>\n",
       "      <th>h1</th>\n",
       "      <th>h2</th>\n",
       "      <th>url</th>\n",
       "      <th>domain</th>\n",
       "      <th>id</th>\n",
       "    </tr>\n",
       "  </thead>\n",
       "  <tbody>\n",
       "    <tr>\n",
       "      <th>0</th>\n",
       "      <td>کتاب و ادبیات</td>\n",
       "      <td>از شوبنده ها: جستجو معنی \"از شوبنده ها\" در فره...</td>\n",
       "      <td>معنی از شوبنده ها | جدول یاب از شوبنده ها 381</td>\n",
       "      <td>معنی از شوبنده ها | جدول یاب</td>\n",
       "      <td>معنی از شوبنده ها</td>\n",
       "      <td>از شوبنده ها در معادل ابجد</td>\n",
       "      <td>jadvalyab.ir/search?q=%D8%A7%D8%B2+%D8%B4%D9%8...</td>\n",
       "      <td>jadvalyab.ir</td>\n",
       "      <td>158</td>\n",
       "    </tr>\n",
       "    <tr>\n",
       "      <th>1</th>\n",
       "      <td>تجارت و اقتصاد</td>\n",
       "      <td>بیت‌کوین کش یک ارز مجازی مشهور است و بیت‌کوین ...</td>\n",
       "      <td>عکس بیت‌کوین کش برای پروفایل عکس و والپیپرهای ...</td>\n",
       "      <td>عکس بیت‌کوین کش برای پروفایل</td>\n",
       "      <td>عکس بیت‌کوین کش برای پروفایل</td>\n",
       "      <td>عکس بیت کوین با کیفیت 4K عکس ارزهای دیجیتال عک...</td>\n",
       "      <td>jowhareh.com/photo/%D8%B9%DA%A9%D8%B3-%D8%A8%D...</td>\n",
       "      <td>jowhareh.com</td>\n",
       "      <td>3268</td>\n",
       "    </tr>\n",
       "    <tr>\n",
       "      <th>2</th>\n",
       "      <td>سلامت</td>\n",
       "      <td>نوبت دهی دکتر مهناز عابدینی متخصص رادیولوژی و ...</td>\n",
       "      <td>دکتر مهناز عابدینی متخصص رادیولوژی و سونوگرافی...</td>\n",
       "      <td>دکتر مهناز عابدینی متخصص رادیولوژی و سونوگرافی...</td>\n",
       "      <td>دکتر مهناز عابدینی</td>\n",
       "      <td>آدرس و تلفن دکتر مهناز عابدینی نظرات و تجربیات...</td>\n",
       "      <td>doctor-yab.ir/Search/14773/%D8%AF%DA%A9%D8%AA%...</td>\n",
       "      <td>doctor-yab.ir</td>\n",
       "      <td>175</td>\n",
       "    </tr>\n",
       "    <tr>\n",
       "      <th>3</th>\n",
       "      <td>تکنولوژی و کامپبوتر</td>\n",
       "      <td>نرم افزار Geph برای اندروید یک پلت‌فرم چندسکوی...</td>\n",
       "      <td>دانلود تحریم‌گذر Geph برای اندروید خانه/اندروی...</td>\n",
       "      <td>دانلود تحریم‌گذر Geph برای اندروید</td>\n",
       "      <td>دانلود تحریم‌گذر Geph برای اندروید</td>\n",
       "      <td>دانلود نرم افزار Geph</td>\n",
       "      <td>palexe.site/dl/geph-android/</td>\n",
       "      <td>palexe.site</td>\n",
       "      <td>3402</td>\n",
       "    </tr>\n",
       "    <tr>\n",
       "      <th>4</th>\n",
       "      <td>تکنولوژی و کامپبوتر</td>\n",
       "      <td>سری جدید تلویزیون‌های هوشمند سامسونگ که با نام...</td>\n",
       "      <td>ترفندهای پرکاربرد تلویزیون‌‌های هوشمند سامسونگ...</td>\n",
       "      <td>ترفندهای پرکاربرد تلویزیون‌‌های هوشمند سامسونگ...</td>\n",
       "      <td>ترفندهای پرکاربرد تلویزیون‌‌های هوشمند سامسونگ</td>\n",
       "      <td>راه‌اندازی تلویزیون همگام‌سازی کنترل اتصال به ...</td>\n",
       "      <td>rokhdadeghtesadi.ir/43874/</td>\n",
       "      <td>rokhdadeghtesadi.ir</td>\n",
       "      <td>3811</td>\n",
       "    </tr>\n",
       "    <tr>\n",
       "      <th>...</th>\n",
       "      <td>...</td>\n",
       "      <td>...</td>\n",
       "      <td>...</td>\n",
       "      <td>...</td>\n",
       "      <td>...</td>\n",
       "      <td>...</td>\n",
       "      <td>...</td>\n",
       "      <td>...</td>\n",
       "      <td>...</td>\n",
       "    </tr>\n",
       "    <tr>\n",
       "      <th>4784</th>\n",
       "      <td>سلامت</td>\n",
       "      <td>سلام خانم دکتر یه سوال مهم دارم آیا قرص ال دی ...</td>\n",
       "      <td>قرص ال دی با دوفاستون تداخل داره؟ پرسش (1397/0...</td>\n",
       "      <td>قرص ال دی با دوفاستون تداخل داره؟</td>\n",
       "      <td>قرص ال دی با دوفاستون تداخل داره؟</td>\n",
       "      <td>NaN</td>\n",
       "      <td>ooma.org/ask/77389/%D9%82%D8%B1%D8%B5-%D8%A7%D...</td>\n",
       "      <td>ooma.org</td>\n",
       "      <td>769</td>\n",
       "    </tr>\n",
       "    <tr>\n",
       "      <th>4785</th>\n",
       "      <td>خانه و باغبانی</td>\n",
       "      <td>فروش نقدی و اقساطی ماشین لباسشویی اسنوا سری ها...</td>\n",
       "      <td>فروش نقدی و اقساطی ماشین لباسشویی اسنوا سری ها...</td>\n",
       "      <td>فروش نقدی و اقساطی ماشین لباسشویی اسنوا سری ها...</td>\n",
       "      <td>فروش اقساطی ماشین لباسشویی اسنوا سری هارمونی 8...</td>\n",
       "      <td>فروش اقساطی کالای دیجیتال فروش اقساطی لوازم اد...</td>\n",
       "      <td>ghesticlub.com/Products/Snowa-Harmony-8-kg-was...</td>\n",
       "      <td>ghesticlub.com</td>\n",
       "      <td>1226</td>\n",
       "    </tr>\n",
       "    <tr>\n",
       "      <th>4786</th>\n",
       "      <td>غذا و نوشیدنی</td>\n",
       "      <td>قهوه سرا در مشهد -شماره تلفن قهوه سرا در مشهد ...</td>\n",
       "      <td>قهوه درویش در مشهد - پشت بام تهران ورود/ثبت نا...</td>\n",
       "      <td>قهوه درویش در مشهد - پشت بام</td>\n",
       "      <td>قهوه درویش در مشهد</td>\n",
       "      <td>قهوه درویش در مشهد</td>\n",
       "      <td>poshtebam.com/Banners/AdsDetail/377919/</td>\n",
       "      <td>poshtebam.com</td>\n",
       "      <td>2967</td>\n",
       "    </tr>\n",
       "    <tr>\n",
       "      <th>4787</th>\n",
       "      <td>ورزش</td>\n",
       "      <td>گزارش برخی رسانه‌های خارجی نشان می‌دهد اطلاعات...</td>\n",
       "      <td>کمک غیرمستقیم فیفا به کی‌روش! | تمام رقیبان تی...</td>\n",
       "      <td>کمک غیرمستقیم فیفا به کی‌روش! | تمام رقیبان تی...</td>\n",
       "      <td>کمک غیرمستقیم فیفا به کی‌روش! | تمام رقیبان تی...</td>\n",
       "      <td>Hamshahri Online برچسب‌ها پر بیننده‌ترین اخبار...</td>\n",
       "      <td>hamshahrionline.ir/news/715355/%DA%A9%D9%85%DA...</td>\n",
       "      <td>hamshahrionline.ir</td>\n",
       "      <td>2684</td>\n",
       "    </tr>\n",
       "    <tr>\n",
       "      <th>4788</th>\n",
       "      <td>تکنولوژی و کامپبوتر</td>\n",
       "      <td>دانلود برنامه جدید برای به روزرسانی درایورهای ...</td>\n",
       "      <td>دانلود Driver DR 6.3.0.42950 – نرم افزار به رو...</td>\n",
       "      <td>دانلود Driver DR 6.3.0.42950 – نرم افزار به رو...</td>\n",
       "      <td>دانلود رایگان نرم افزار دانلود Driver DR 6.3.0...</td>\n",
       "      <td>تبلیغات تبلیغات تبلیغات تبلیغات دانلود Driver DR</td>\n",
       "      <td>downloadsoftware.ir/driver-dr.php/</td>\n",
       "      <td>downloadsoftware.ir</td>\n",
       "      <td>4354</td>\n",
       "    </tr>\n",
       "  </tbody>\n",
       "</table>\n",
       "<p>4789 rows × 9 columns</p>\n",
       "</div>"
      ],
      "text/plain": [
       "                 category                                        description  \\\n",
       "0           کتاب و ادبیات  از شوبنده ها: جستجو معنی \"از شوبنده ها\" در فره...   \n",
       "1          تجارت و اقتصاد  بیت‌کوین کش یک ارز مجازی مشهور است و بیت‌کوین ...   \n",
       "2                   سلامت  نوبت دهی دکتر مهناز عابدینی متخصص رادیولوژی و ...   \n",
       "3     تکنولوژی و کامپبوتر  نرم افزار Geph برای اندروید یک پلت‌فرم چندسکوی...   \n",
       "4     تکنولوژی و کامپبوتر  سری جدید تلویزیون‌های هوشمند سامسونگ که با نام...   \n",
       "...                   ...                                                ...   \n",
       "4784                سلامت  سلام خانم دکتر یه سوال مهم دارم آیا قرص ال دی ...   \n",
       "4785       خانه و باغبانی  فروش نقدی و اقساطی ماشین لباسشویی اسنوا سری ها...   \n",
       "4786        غذا و نوشیدنی  قهوه سرا در مشهد -شماره تلفن قهوه سرا در مشهد ...   \n",
       "4787                 ورزش  گزارش برخی رسانه‌های خارجی نشان می‌دهد اطلاعات...   \n",
       "4788  تکنولوژی و کامپبوتر  دانلود برنامه جدید برای به روزرسانی درایورهای ...   \n",
       "\n",
       "                                           text_content  \\\n",
       "0         معنی از شوبنده ها | جدول یاب از شوبنده ها 381   \n",
       "1     عکس بیت‌کوین کش برای پروفایل عکس و والپیپرهای ...   \n",
       "2     دکتر مهناز عابدینی متخصص رادیولوژی و سونوگرافی...   \n",
       "3     دانلود تحریم‌گذر Geph برای اندروید خانه/اندروی...   \n",
       "4     ترفندهای پرکاربرد تلویزیون‌‌های هوشمند سامسونگ...   \n",
       "...                                                 ...   \n",
       "4784  قرص ال دی با دوفاستون تداخل داره؟ پرسش (1397/0...   \n",
       "4785  فروش نقدی و اقساطی ماشین لباسشویی اسنوا سری ها...   \n",
       "4786  قهوه درویش در مشهد - پشت بام تهران ورود/ثبت نا...   \n",
       "4787  کمک غیرمستقیم فیفا به کی‌روش! | تمام رقیبان تی...   \n",
       "4788  دانلود Driver DR 6.3.0.42950 – نرم افزار به رو...   \n",
       "\n",
       "                                                  title  \\\n",
       "0                          معنی از شوبنده ها | جدول یاب   \n",
       "1                          عکس بیت‌کوین کش برای پروفایل   \n",
       "2     دکتر مهناز عابدینی متخصص رادیولوژی و سونوگرافی...   \n",
       "3                    دانلود تحریم‌گذر Geph برای اندروید   \n",
       "4     ترفندهای پرکاربرد تلویزیون‌‌های هوشمند سامسونگ...   \n",
       "...                                                 ...   \n",
       "4784                  قرص ال دی با دوفاستون تداخل داره؟   \n",
       "4785  فروش نقدی و اقساطی ماشین لباسشویی اسنوا سری ها...   \n",
       "4786                       قهوه درویش در مشهد - پشت بام   \n",
       "4787  کمک غیرمستقیم فیفا به کی‌روش! | تمام رقیبان تی...   \n",
       "4788  دانلود Driver DR 6.3.0.42950 – نرم افزار به رو...   \n",
       "\n",
       "                                                     h1  \\\n",
       "0                                     معنی از شوبنده ها   \n",
       "1                          عکس بیت‌کوین کش برای پروفایل   \n",
       "2                                    دکتر مهناز عابدینی   \n",
       "3                    دانلود تحریم‌گذر Geph برای اندروید   \n",
       "4        ترفندهای پرکاربرد تلویزیون‌‌های هوشمند سامسونگ   \n",
       "...                                                 ...   \n",
       "4784                  قرص ال دی با دوفاستون تداخل داره؟   \n",
       "4785  فروش اقساطی ماشین لباسشویی اسنوا سری هارمونی 8...   \n",
       "4786                                 قهوه درویش در مشهد   \n",
       "4787  کمک غیرمستقیم فیفا به کی‌روش! | تمام رقیبان تی...   \n",
       "4788  دانلود رایگان نرم افزار دانلود Driver DR 6.3.0...   \n",
       "\n",
       "                                                     h2  \\\n",
       "0                            از شوبنده ها در معادل ابجد   \n",
       "1     عکس بیت کوین با کیفیت 4K عکس ارزهای دیجیتال عک...   \n",
       "2     آدرس و تلفن دکتر مهناز عابدینی نظرات و تجربیات...   \n",
       "3                                 دانلود نرم افزار Geph   \n",
       "4     راه‌اندازی تلویزیون همگام‌سازی کنترل اتصال به ...   \n",
       "...                                                 ...   \n",
       "4784                                                NaN   \n",
       "4785  فروش اقساطی کالای دیجیتال فروش اقساطی لوازم اد...   \n",
       "4786                                 قهوه درویش در مشهد   \n",
       "4787  Hamshahri Online برچسب‌ها پر بیننده‌ترین اخبار...   \n",
       "4788   تبلیغات تبلیغات تبلیغات تبلیغات دانلود Driver DR   \n",
       "\n",
       "                                                    url               domain  \\\n",
       "0     jadvalyab.ir/search?q=%D8%A7%D8%B2+%D8%B4%D9%8...         jadvalyab.ir   \n",
       "1     jowhareh.com/photo/%D8%B9%DA%A9%D8%B3-%D8%A8%D...         jowhareh.com   \n",
       "2     doctor-yab.ir/Search/14773/%D8%AF%DA%A9%D8%AA%...        doctor-yab.ir   \n",
       "3                          palexe.site/dl/geph-android/          palexe.site   \n",
       "4                            rokhdadeghtesadi.ir/43874/  rokhdadeghtesadi.ir   \n",
       "...                                                 ...                  ...   \n",
       "4784  ooma.org/ask/77389/%D9%82%D8%B1%D8%B5-%D8%A7%D...             ooma.org   \n",
       "4785  ghesticlub.com/Products/Snowa-Harmony-8-kg-was...       ghesticlub.com   \n",
       "4786            poshtebam.com/Banners/AdsDetail/377919/        poshtebam.com   \n",
       "4787  hamshahrionline.ir/news/715355/%DA%A9%D9%85%DA...   hamshahrionline.ir   \n",
       "4788                 downloadsoftware.ir/driver-dr.php/  downloadsoftware.ir   \n",
       "\n",
       "        id  \n",
       "0      158  \n",
       "1     3268  \n",
       "2      175  \n",
       "3     3402  \n",
       "4     3811  \n",
       "...    ...  \n",
       "4784   769  \n",
       "4785  1226  \n",
       "4786  2967  \n",
       "4787  2684  \n",
       "4788  4354  \n",
       "\n",
       "[4789 rows x 9 columns]"
      ]
     },
     "execution_count": 2,
     "metadata": {},
     "output_type": "execute_result"
    }
   ],
   "source": [
    "train = pd.read_csv('../data/yektanet_train.csv') # To-Do\n",
    "train"
   ]
  },
  {
   "cell_type": "code",
   "execution_count": 20,
   "metadata": {},
   "outputs": [
    {
     "data": {
      "text/html": [
       "<div>\n",
       "<style scoped>\n",
       "    .dataframe tbody tr th:only-of-type {\n",
       "        vertical-align: middle;\n",
       "    }\n",
       "\n",
       "    .dataframe tbody tr th {\n",
       "        vertical-align: top;\n",
       "    }\n",
       "\n",
       "    .dataframe thead th {\n",
       "        text-align: right;\n",
       "    }\n",
       "</style>\n",
       "<table border=\"1\" class=\"dataframe\">\n",
       "  <thead>\n",
       "    <tr style=\"text-align: right;\">\n",
       "      <th></th>\n",
       "      <th>description</th>\n",
       "      <th>text_content</th>\n",
       "      <th>title</th>\n",
       "      <th>h1</th>\n",
       "      <th>h2</th>\n",
       "      <th>url</th>\n",
       "      <th>domain</th>\n",
       "      <th>id</th>\n",
       "    </tr>\n",
       "  </thead>\n",
       "  <tbody>\n",
       "    <tr>\n",
       "      <th>0</th>\n",
       "      <td>پیام ناشناس یک ابزار رایگان برای ساخت چالش های...</td>\n",
       "      <td>پیام ناشناس / چالش دریافت پیام های ناشناس با ل...</td>\n",
       "      <td>پیام ناشناس / چالش دریافت پیام های ناشناس با ل...</td>\n",
       "      <td>NaN</td>\n",
       "      <td>پیام ناشناس / چالش دریافت پیام های ناشناس با ل...</td>\n",
       "      <td>abzarek.ir/service-p/msg/824757/</td>\n",
       "      <td>abzarek.ir</td>\n",
       "      <td>3291</td>\n",
       "    </tr>\n",
       "    <tr>\n",
       "      <th>1</th>\n",
       "      <td>اقتصادنیوز: سید امیر احمد علیه السلام ملقب به ...</td>\n",
       "      <td>حرم شاهچراغ شیراز در گذر زمان+تصاویر حرم شاهچر...</td>\n",
       "      <td>حرم شاهچراغ شیراز در گذر زمان+تصاویر</td>\n",
       "      <td>حرم شاهچراغ شیراز در گذر زمان+تصاویر</td>\n",
       "      <td>NaN</td>\n",
       "      <td>eghtesadnews.com/%D8%A8%D8%AE%D8%B4-%D8%A7%D8%...</td>\n",
       "      <td>eghtesadnews.com</td>\n",
       "      <td>5053</td>\n",
       "    </tr>\n",
       "    <tr>\n",
       "      <th>2</th>\n",
       "      <td>آخرین خبر های بین المللی و آخرین تحولات جهان، ...</td>\n",
       "      <td>آخرین خبر | زلنسکی پیام پوتین را دریافت کرد ✖...</td>\n",
       "      <td>آخرین خبر | زلنسکی پیام پوتین را دریافت کرد</td>\n",
       "      <td>زلنسکی پیام پوتین را دریافت کرد</td>\n",
       "      <td>NaN</td>\n",
       "      <td>akharinkhabar.ir/world/9332333/%D8%B2%D9%84%D9...</td>\n",
       "      <td>akharinkhabar.ir</td>\n",
       "      <td>564</td>\n",
       "    </tr>\n",
       "    <tr>\n",
       "      <th>3</th>\n",
       "      <td>آهنگ گاهی دریدن لازم نیست با صدای امیر تتلو با...</td>\n",
       "      <td>آهنگ گاهی دریدن لازم نیست امیر تتلو آهنگ گاهی ...</td>\n",
       "      <td>آهنگ گاهی دریدن لازم نیست امیر تتلو</td>\n",
       "      <td>آهنگ گاهی دریدن لازم نیست امیر تتلو</td>\n",
       "      <td>گاهی دریدن لازم نیست امیر تتلو</td>\n",
       "      <td>behmusic.com/music/%DA%AF%D8%A7%D9%87%DB%8C-%D...</td>\n",
       "      <td>behmusic.com</td>\n",
       "      <td>3607</td>\n",
       "    </tr>\n",
       "    <tr>\n",
       "      <th>4</th>\n",
       "      <td>کیهان با اشاره به حوادث و ناآرامیهای اخیر کشور...</td>\n",
       "      <td>انتقاد کیهان از امام جمعه اهل سنت زاهدان/ با ا...</td>\n",
       "      <td>انتقاد کیهان از امام جمعه اهل سنت زاهدان/ با ا...</td>\n",
       "      <td>انتقاد کیهان از امام جمعه اهل سنت زاهدان/ با ا...</td>\n",
       "      <td>برچسب‌ها نظر شما آخرین اخبار سیاسی ایران در بح...</td>\n",
       "      <td>khabaronline.ir/news/1688132/%D8%A7%D9%86%D8%A...</td>\n",
       "      <td>khabaronline.ir</td>\n",
       "      <td>2358</td>\n",
       "    </tr>\n",
       "    <tr>\n",
       "      <th>...</th>\n",
       "      <td>...</td>\n",
       "      <td>...</td>\n",
       "      <td>...</td>\n",
       "      <td>...</td>\n",
       "      <td>...</td>\n",
       "      <td>...</td>\n",
       "      <td>...</td>\n",
       "      <td>...</td>\n",
       "    </tr>\n",
       "    <tr>\n",
       "      <th>412</th>\n",
       "      <td>نوبت دهی دکتر حسین کرمی متخصص جراح کلیه و مجار...</td>\n",
       "      <td>دکتر حسین کرمی متخصص جراح کلیه و مجاری ادراری ...</td>\n",
       "      <td>دکتر حسین کرمی متخصص جراح کلیه و مجاری ادراری ...</td>\n",
       "      <td>دکتر حسین کرمی</td>\n",
       "      <td>آدرس و تلفن دکتر حسین کرمی نظرات و تجربیات در ...</td>\n",
       "      <td>doctor-yab.ir/Search/2214/%D8%AF%DA%A9%D8%AA%D...</td>\n",
       "      <td>doctor-yab.ir</td>\n",
       "      <td>67</td>\n",
       "    </tr>\n",
       "    <tr>\n",
       "      <th>413</th>\n",
       "      <td>نوبت دهی دکتر مینا اسلام دوست متخصص چشم پزشک د...</td>\n",
       "      <td>دکتر مینا اسلام دوست متخصص چشم پزشک در هشتگرد ...</td>\n",
       "      <td>دکتر مینا اسلام دوست متخصص چشم پزشک در هشتگرد</td>\n",
       "      <td>دکتر مینا اسلام دوست</td>\n",
       "      <td>آدرس و تلفن دکتر مینا اسلام دوست نظرات و تجربی...</td>\n",
       "      <td>doctor-yab.ir/Search/13803/%D8%AF%DA%A9%D8%AA%...</td>\n",
       "      <td>doctor-yab.ir</td>\n",
       "      <td>1229</td>\n",
       "    </tr>\n",
       "    <tr>\n",
       "      <th>414</th>\n",
       "      <td>دانلود فول آلبوم افسر شهیدی شامل با کیفیت 320 ...</td>\n",
       "      <td>دانلود فول آلبوم افسر شهیدی | کاملترین فول آلب...</td>\n",
       "      <td>دانلود فول آلبوم افسر شهیدی | کاملترین فول آلب...</td>\n",
       "      <td>دانلود فول آلبوم افسر شهیدی دانلود فول آلبوم ا...</td>\n",
       "      <td>دانلود فول آلبوم افسر شهیدی قسمتی از بیوگرافی ...</td>\n",
       "      <td>muhamamusic11.com/album/download-full-album-af...</td>\n",
       "      <td>muhamamusic11.com</td>\n",
       "      <td>42</td>\n",
       "    </tr>\n",
       "    <tr>\n",
       "      <th>415</th>\n",
       "      <td>عکس حیوانات زیبا و بامزه برای پروفایل ، عکس حی...</td>\n",
       "      <td>عکس حیوانات زیبا و بامزه برای پروفایل + عکس ها...</td>\n",
       "      <td>عکس حیوانات زیبا و بامزه برای پروفایل + عکس ها...</td>\n",
       "      <td>عکس حیوانات زیبا و بامزه برای پروفایل + عکس ها...</td>\n",
       "      <td>عکس حیوانات زیبا و بامزه برای پروفایل عکس های ...</td>\n",
       "      <td>namagard.com/ax-profile-animal-8/</td>\n",
       "      <td>namagard.com</td>\n",
       "      <td>102</td>\n",
       "    </tr>\n",
       "    <tr>\n",
       "      <th>416</th>\n",
       "      <td>برای بررسی قیمت و مشخصات فنی لپ تاپ HP Pavilio...</td>\n",
       "      <td>سبزسنتر&gt;&gt; بررسی اطلاعات و قیمت خرید لپ تاپ HP ...</td>\n",
       "      <td>سبزسنتر&gt;&gt; بررسی اطلاعات و قیمت خرید لپ تاپ HP ...</td>\n",
       "      <td>HP Pavilion AY037</td>\n",
       "      <td>لپ تاپ اچ پی پاویلیون مدل AY037 نقد و بررسی HP...</td>\n",
       "      <td>sabzcenter.com/product/%D9%84%D9%BE-%D8%AA%D8%...</td>\n",
       "      <td>sabzcenter.com</td>\n",
       "      <td>2453</td>\n",
       "    </tr>\n",
       "  </tbody>\n",
       "</table>\n",
       "<p>417 rows × 8 columns</p>\n",
       "</div>"
      ],
      "text/plain": [
       "                                           description  \\\n",
       "0    پیام ناشناس یک ابزار رایگان برای ساخت چالش های...   \n",
       "1    اقتصادنیوز: سید امیر احمد علیه السلام ملقب به ...   \n",
       "2    آخرین خبر های بین المللی و آخرین تحولات جهان، ...   \n",
       "3    آهنگ گاهی دریدن لازم نیست با صدای امیر تتلو با...   \n",
       "4    کیهان با اشاره به حوادث و ناآرامیهای اخیر کشور...   \n",
       "..                                                 ...   \n",
       "412  نوبت دهی دکتر حسین کرمی متخصص جراح کلیه و مجار...   \n",
       "413  نوبت دهی دکتر مینا اسلام دوست متخصص چشم پزشک د...   \n",
       "414  دانلود فول آلبوم افسر شهیدی شامل با کیفیت 320 ...   \n",
       "415  عکس حیوانات زیبا و بامزه برای پروفایل ، عکس حی...   \n",
       "416  برای بررسی قیمت و مشخصات فنی لپ تاپ HP Pavilio...   \n",
       "\n",
       "                                          text_content  \\\n",
       "0    پیام ناشناس / چالش دریافت پیام های ناشناس با ل...   \n",
       "1    حرم شاهچراغ شیراز در گذر زمان+تصاویر حرم شاهچر...   \n",
       "2     آخرین خبر | زلنسکی پیام پوتین را دریافت کرد ✖...   \n",
       "3    آهنگ گاهی دریدن لازم نیست امیر تتلو آهنگ گاهی ...   \n",
       "4    انتقاد کیهان از امام جمعه اهل سنت زاهدان/ با ا...   \n",
       "..                                                 ...   \n",
       "412  دکتر حسین کرمی متخصص جراح کلیه و مجاری ادراری ...   \n",
       "413  دکتر مینا اسلام دوست متخصص چشم پزشک در هشتگرد ...   \n",
       "414  دانلود فول آلبوم افسر شهیدی | کاملترین فول آلب...   \n",
       "415  عکس حیوانات زیبا و بامزه برای پروفایل + عکس ها...   \n",
       "416  سبزسنتر>> بررسی اطلاعات و قیمت خرید لپ تاپ HP ...   \n",
       "\n",
       "                                                 title  \\\n",
       "0    پیام ناشناس / چالش دریافت پیام های ناشناس با ل...   \n",
       "1                 حرم شاهچراغ شیراز در گذر زمان+تصاویر   \n",
       "2          آخرین خبر | زلنسکی پیام پوتین را دریافت کرد   \n",
       "3                  آهنگ گاهی دریدن لازم نیست امیر تتلو   \n",
       "4    انتقاد کیهان از امام جمعه اهل سنت زاهدان/ با ا...   \n",
       "..                                                 ...   \n",
       "412  دکتر حسین کرمی متخصص جراح کلیه و مجاری ادراری ...   \n",
       "413      دکتر مینا اسلام دوست متخصص چشم پزشک در هشتگرد   \n",
       "414  دانلود فول آلبوم افسر شهیدی | کاملترین فول آلب...   \n",
       "415  عکس حیوانات زیبا و بامزه برای پروفایل + عکس ها...   \n",
       "416  سبزسنتر>> بررسی اطلاعات و قیمت خرید لپ تاپ HP ...   \n",
       "\n",
       "                                                    h1  \\\n",
       "0                                                  NaN   \n",
       "1                 حرم شاهچراغ شیراز در گذر زمان+تصاویر   \n",
       "2                      زلنسکی پیام پوتین را دریافت کرد   \n",
       "3                  آهنگ گاهی دریدن لازم نیست امیر تتلو   \n",
       "4    انتقاد کیهان از امام جمعه اهل سنت زاهدان/ با ا...   \n",
       "..                                                 ...   \n",
       "412                                     دکتر حسین کرمی   \n",
       "413                               دکتر مینا اسلام دوست   \n",
       "414  دانلود فول آلبوم افسر شهیدی دانلود فول آلبوم ا...   \n",
       "415  عکس حیوانات زیبا و بامزه برای پروفایل + عکس ها...   \n",
       "416                                  HP Pavilion AY037   \n",
       "\n",
       "                                                    h2  \\\n",
       "0    پیام ناشناس / چالش دریافت پیام های ناشناس با ل...   \n",
       "1                                                  NaN   \n",
       "2                                                  NaN   \n",
       "3                       گاهی دریدن لازم نیست امیر تتلو   \n",
       "4    برچسب‌ها نظر شما آخرین اخبار سیاسی ایران در بح...   \n",
       "..                                                 ...   \n",
       "412  آدرس و تلفن دکتر حسین کرمی نظرات و تجربیات در ...   \n",
       "413  آدرس و تلفن دکتر مینا اسلام دوست نظرات و تجربی...   \n",
       "414  دانلود فول آلبوم افسر شهیدی قسمتی از بیوگرافی ...   \n",
       "415  عکس حیوانات زیبا و بامزه برای پروفایل عکس های ...   \n",
       "416  لپ تاپ اچ پی پاویلیون مدل AY037 نقد و بررسی HP...   \n",
       "\n",
       "                                                   url             domain  \\\n",
       "0                     abzarek.ir/service-p/msg/824757/         abzarek.ir   \n",
       "1    eghtesadnews.com/%D8%A8%D8%AE%D8%B4-%D8%A7%D8%...   eghtesadnews.com   \n",
       "2    akharinkhabar.ir/world/9332333/%D8%B2%D9%84%D9...   akharinkhabar.ir   \n",
       "3    behmusic.com/music/%DA%AF%D8%A7%D9%87%DB%8C-%D...       behmusic.com   \n",
       "4    khabaronline.ir/news/1688132/%D8%A7%D9%86%D8%A...    khabaronline.ir   \n",
       "..                                                 ...                ...   \n",
       "412  doctor-yab.ir/Search/2214/%D8%AF%DA%A9%D8%AA%D...      doctor-yab.ir   \n",
       "413  doctor-yab.ir/Search/13803/%D8%AF%DA%A9%D8%AA%...      doctor-yab.ir   \n",
       "414  muhamamusic11.com/album/download-full-album-af...  muhamamusic11.com   \n",
       "415                  namagard.com/ax-profile-animal-8/       namagard.com   \n",
       "416  sabzcenter.com/product/%D9%84%D9%BE-%D8%AA%D8%...     sabzcenter.com   \n",
       "\n",
       "       id  \n",
       "0    3291  \n",
       "1    5053  \n",
       "2     564  \n",
       "3    3607  \n",
       "4    2358  \n",
       "..    ...  \n",
       "412    67  \n",
       "413  1229  \n",
       "414    42  \n",
       "415   102  \n",
       "416  2453  \n",
       "\n",
       "[417 rows x 8 columns]"
      ]
     },
     "execution_count": 20,
     "metadata": {},
     "output_type": "execute_result"
    }
   ],
   "source": [
    "test = pd.read_csv('../data/yektanet_test.csv') # To-Do\n",
    "test"
   ]
  },
  {
   "cell_type": "code",
   "execution_count": 21,
   "metadata": {},
   "outputs": [
    {
     "data": {
      "text/plain": [
       "description       3\n",
       "text_content      0\n",
       "title             0\n",
       "h1               33\n",
       "h2              118\n",
       "url               0\n",
       "domain            1\n",
       "id                0\n",
       "dtype: int64"
      ]
     },
     "execution_count": 21,
     "metadata": {},
     "output_type": "execute_result"
    }
   ],
   "source": [
    "test.isna().sum()"
   ]
  },
  {
   "cell_type": "code",
   "execution_count": 4,
   "metadata": {},
   "outputs": [
    {
     "name": "stderr",
     "output_type": "stream",
     "text": [
      "C:\\Users\\User\\AppData\\Local\\Programs\\Python\\Python39\\lib\\site-packages\\pandas\\core\\generic.py:6392: SettingWithCopyWarning: \n",
      "A value is trying to be set on a copy of a slice from a DataFrame\n",
      "\n",
      "See the caveats in the documentation: https://pandas.pydata.org/pandas-docs/stable/user_guide/indexing.html#returning-a-view-versus-a-copy\n",
      "  return self._update_inplace(result)\n"
     ]
    }
   ],
   "source": [
    "train = train.dropna(subset=['description','domain'])\n",
    "train['h1'].fillna(train['title'], inplace=True)\n",
    "train['h2'].fillna(train['h1'], inplace=True)\n",
    "\n"
   ]
  },
  {
   "cell_type": "code",
   "execution_count": 22,
   "metadata": {},
   "outputs": [],
   "source": [
    "\n",
    "test['h1'].fillna(test['title'], inplace=True)\n",
    "test['h2'].fillna(test['h1'], inplace=True)\n",
    "test['description'].fillna(test['title'], inplace=True)"
   ]
  },
  {
   "cell_type": "code",
   "execution_count": 5,
   "metadata": {},
   "outputs": [],
   "source": [
    "X = train.drop(columns=['category'])\n",
    "Y = train['category']\n",
    "\n",
    "from imblearn.under_sampling import RandomUnderSampler\n",
    "from imblearn.over_sampling import RandomOverSampler\n",
    "\n",
    "ros = RandomOverSampler(sampling_strategy={'حیوانات خانگی':250 , 'خانواده': 250, 'علم و دانش': 250, 'اشتغال': 250, 'تحصیلات': 250, 'کتاب و ادبیات': 250, 'مد و زیبایی': 250, 'خانه و باغبانی': 250, 'مسکن': 250, 'مذهبی': 250, 'غذا و نوشیدنی': 250, 'سفر و گردشگری': 250})\n",
    "X_resampled, y_resampled = ros.fit_resample(X, Y)\n",
    "\n",
    "\n",
    "rus = RandomUnderSampler(sampling_strategy={'هنر و سرگرمی': 300,'حقوق و دولت و سیاست': 300,'ورزش': 300,'سلامت': 300,})\n",
    "X_resampled, y_resampled = rus.fit_resample(X_resampled, y_resampled)\n",
    "\n",
    "y_resampled.value_counts()\n",
    "\n",
    "X_resampled['category'] = y_resampled\n",
    "train = X_resampled"
   ]
  },
  {
   "cell_type": "markdown",
   "metadata": {},
   "source": [
    "<h2 align=right style=\"line-height:200%;font-family:vazir;color:#0099cc\">\n",
    "<font face=\"vazir\" color=\"#0099cc\">\n",
    "پیش‌پردازش و مهندسی ویژگی\n",
    "</font>\n",
    "</h2>\n",
    "\n",
    "<p dir=rtl style=\"direction: rtl; text-align: justify; line-height:200%; font-family:vazir; font-size:medium\">\n",
    "<font face=\"vazir\" size=3>\n",
    "در هنگام کار با داده‌های متنی، پیش‌پردازش داده‌ها به کمک تکنیک‌های پردازش زبان طبیعی یکی از مراحل بسیار تاثیرگذار در یادگیری مدل و عملکرد نهایی است.\n",
    "در تمرین «کامنت‌کاوی» فصل دسته‌بندی با چندین تکنیک رایج پیش‌پردازش خصوصاً برای زبان فارسی آشنا شدید. در این قسمت نیز می‌توانید تابعی بنویسید که یک رشته (<code>string</code>) را گرفته، اصلاحات موردنظر شما رو روی متن اعمال کرده و در نهایت نتیجه را با فرمت یک رشته (<code>string</code>) خروجی دهد. بررسی و تحلیل کلمات موجود در مجموعه‌داده از نظر تعداد رخداد نیز می‌تواند شما را در پیش‌پردازش بهتر یاری کند.\n",
    "</font>\n",
    "</p>\n"
   ]
  },
  {
   "cell_type": "code",
   "execution_count": 6,
   "metadata": {},
   "outputs": [],
   "source": [
    "# To-Do\n",
    "\n",
    "from hazm import *\n",
    "def preprocessing(text):\n",
    "    punctoation = ['.', ',', '(', '[', '/', '{','0','1','2','3','4','5','6','7','8','9']\n",
    "    for i in punctoation:\n",
    "        text = text.replace(i,'',1)\n",
    "    #text = Normalizer().normalize(text)\n",
    "    stopwords = stopwords_list()\n",
    "    filtered=[]\n",
    "    words = WordTokenizer().tokenize(text)\n",
    "    for word in words:\n",
    "        if word not in punctoation and word not in stopwords:\n",
    "            filtered.append(word)\n",
    "    return ' '.join(filtered)\n"
   ]
  },
  {
   "cell_type": "code",
   "execution_count": 6,
   "metadata": {},
   "outputs": [],
   "source": [
    "# To-Do\n",
    "\n",
    "from hazm import *\n",
    "def preprocessing(text):\n",
    "    punctoation = ['.', ',', '(', '[', '/', '{','0','1','2','3','4','5','6','7','8','9']\n",
    "    for i in punctoation:\n",
    "        text = text.replace(i,'',1)\n",
    "    \n",
    "    return text\n"
   ]
  },
  {
   "cell_type": "markdown",
   "metadata": {},
   "source": [
    "<p dir=rtl style=\"direction: rtl; text-align: justify; line-height:200%; font-family:vazir; font-size:medium\">\n",
    "<font face=\"vazir\" size=3>\n",
    "در هنگام تعبیه‌سازی به کمک کتابخانه‌ی <code>scikit-learn</code>\n",
    "از آنجا که ممکن است توکن‌ساز (Tokenizer) مورد استفاده در این کتابخانه مناسب زبان فارسی نباشد، بهتر است از توکن‌سازهای مناسب این زبان استفاده کنیم. کافیست تابعی بنویسید که یک رشته (<code>string</code>) را گرفته و به کمک کتابخانه‌ی موردنظر شما (مثل <code>word_tokenize</code> در کتابخانه‌ی هضم) توکن‌های آن را جدا کند. خروجی تابع لیستی از توکن‌ها خواهد بود.\n",
    "</font>\n",
    "</p>\n"
   ]
  },
  {
   "cell_type": "code",
   "execution_count": 7,
   "metadata": {},
   "outputs": [],
   "source": [
    "def tokenizer(text):\n",
    "    words = WordTokenizer().tokenize(text)\n",
    "    return words"
   ]
  },
  {
   "cell_type": "markdown",
   "metadata": {},
   "source": [
    "<p dir=rtl style=\"direction: rtl; text-align: justify; line-height:200%; font-family:vazir; font-size:medium\">\n",
    "<font face=\"vazir\" size=3>\n",
    "توجه داشته باشید انتخاب این‌که از کدام ویژگی‌ها (متن‌ها) به‌عنوان ورودی الگوریتم استفاده کنید بر عهده‌ی خودتان است. می‌توانید تنها از یک ستون مثل <code>title</code> استفاده کنید یا می‌توانید به‌نحوی متن یا حتی بردار ویژگی هر ستون را با همدیگر ترکیب کنید. همچنین فراموش نکنید که ستون متغیر هدف یعنی <code>category</code> نیاز به کدگذاری دارد.\n",
    "</font>\n",
    "</p>\n"
   ]
  },
  {
   "cell_type": "code",
   "execution_count": 8,
   "metadata": {},
   "outputs": [
    {
     "data": {
      "text/plain": [
       "18    314\n",
       "11    300\n",
       "20    300\n",
       "5     300\n",
       "19    300\n",
       "4     286\n",
       "2     282\n",
       "12    250\n",
       "17    250\n",
       "16    250\n",
       "15    250\n",
       "13    250\n",
       "21    250\n",
       "1     250\n",
       "10    250\n",
       "8     250\n",
       "7     250\n",
       "6     250\n",
       "3     250\n",
       "14    237\n",
       "9     227\n",
       "0     208\n",
       "Name: category, dtype: int64"
      ]
     },
     "execution_count": 8,
     "metadata": {},
     "output_type": "execute_result"
    }
   ],
   "source": [
    "from sklearn.preprocessing import LabelEncoder\n",
    "\n",
    "label_encoder = LabelEncoder()\n",
    "\n",
    "train['category'] = label_encoder.fit_transform(train['category'])\n",
    "\n",
    "train['category'].value_counts()\n",
    "# To-Do"
   ]
  },
  {
   "cell_type": "markdown",
   "metadata": {},
   "source": [
    "<h2 align=right style=\"line-height:200%;font-family:vazir;color:#0099cc\">\n",
    "<font face=\"vazir\" color=\"#0099cc\">\n",
    "مدل‌سازی\n",
    "</font>\n",
    "</h2>\n",
    "\n",
    "<p dir=rtl style=\"direction: rtl; text-align: justify; line-height:200%; font-family:vazir; font-size:medium\">\n",
    "<font face=\"vazir\" size=3>\n",
    "اکنون وقت آن رسیده که الگوریتم یادگیری ماشین موردنظر خود را بر روی داده‌های آموزشی اجرا کنید. در انتخاب الگوریتم کاملاً آزاد هستید. برای این بخش می‌توانید ابتدا هر ورودی متن را به کمک تکنیک‌های معرفی‌شده در درسنامه‌های این فصل (مثل Bag-of-Word یا Tf-idf) به بردارهای ویژگی عددی تبدیل کنید. سپس این بردارها را همراه با لیست برچسب‌های صحیح به الگوریتم بدهید تا مدل آموخته شود. علاوه بر این می‌توانید تمام این مراحل را در یک خط لوله‌ (<code>Pipeline</code>) نیز تعریف کنید.\n",
    "</font>\n",
    "</p>"
   ]
  },
  {
   "cell_type": "code",
   "execution_count": 9,
   "metadata": {},
   "outputs": [
    {
     "data": {
      "text/plain": [
       "description     0\n",
       "text_content    0\n",
       "title           0\n",
       "h1              0\n",
       "h2              0\n",
       "url             0\n",
       "domain          0\n",
       "id              0\n",
       "category        0\n",
       "dtype: int64"
      ]
     },
     "execution_count": 9,
     "metadata": {},
     "output_type": "execute_result"
    }
   ],
   "source": [
    "train.isna().sum()"
   ]
  },
  {
   "cell_type": "code",
   "execution_count": 12,
   "metadata": {},
   "outputs": [],
   "source": [
    "\n",
    "from sklearn.feature_extraction.text import TfidfVectorizer\n",
    "from sklearn.ensemble import AdaBoostClassifier\n",
    "from sklearn.ensemble import RandomForestClassifier\n",
    "\n",
    "\n",
    "txt_model = AdaBoostClassifier(base_estimator=RandomForestClassifier(n_estimators=2),n_estimators=5,random_state=44,learning_rate=0.1) \n",
    "\n",
    "\n",
    "\n",
    "tfidf = TfidfVectorizer(preprocessor= preprocessing, tokenizer= tokenizer)"
   ]
  },
  {
   "cell_type": "code",
   "execution_count": 13,
   "metadata": {},
   "outputs": [
    {
     "data": {
      "text/plain": [
       "TfidfVectorizer(preprocessor=<function preprocessing at 0x0000016B63C93E50>,\n",
       "                tokenizer=<function tokenizer at 0x0000016B63CA41F0>)"
      ]
     },
     "execution_count": 13,
     "metadata": {},
     "output_type": "execute_result"
    }
   ],
   "source": [
    "\n",
    "tfidf.fit(train.title + ' ' + train.h1)\n"
   ]
  },
  {
   "cell_type": "code",
   "execution_count": 14,
   "metadata": {},
   "outputs": [
    {
     "data": {
      "text/plain": [
       "AdaBoostClassifier(base_estimator=RandomForestClassifier(n_estimators=2),\n",
       "                   learning_rate=0.1, n_estimators=5, random_state=44)"
      ]
     },
     "execution_count": 14,
     "metadata": {},
     "output_type": "execute_result"
    }
   ],
   "source": [
    "txt_model.fit(tfidf.transform(train.title + ' ' + train.h1), train['category'])"
   ]
  },
  {
   "cell_type": "code",
   "execution_count": 30,
   "metadata": {},
   "outputs": [],
   "source": [
    "temp = tfidf.transform(train.title + ' ' + train.h1)"
   ]
  },
  {
   "cell_type": "code",
   "execution_count": 44,
   "metadata": {},
   "outputs": [
    {
     "name": "stdout",
     "output_type": "stream",
     "text": [
      "Fitting 5 folds for each of 1 candidates, totalling 5 fits\n",
      "[CV 1/5] END ..C=10, gamma=0.001, kernel=linear;, score=0.845 total time=   3.3s\n",
      "[CV 2/5] END ..C=10, gamma=0.001, kernel=linear;, score=0.857 total time=   3.3s\n",
      "[CV 3/5] END ..C=10, gamma=0.001, kernel=linear;, score=0.840 total time=   3.6s\n",
      "[CV 4/5] END ..C=10, gamma=0.001, kernel=linear;, score=0.861 total time=   3.2s\n",
      "[CV 5/5] END ..C=10, gamma=0.001, kernel=linear;, score=0.877 total time=   3.3s\n"
     ]
    },
    {
     "data": {
      "text/plain": [
       "GridSearchCV(estimator=SVC(),\n",
       "             param_grid={'C': [10], 'gamma': [0.001], 'kernel': ['linear']},\n",
       "             verbose=3)"
      ]
     },
     "execution_count": 44,
     "metadata": {},
     "output_type": "execute_result"
    }
   ],
   "source": [
    "from sklearn.svm import SVC\n",
    "from sklearn.model_selection import GridSearchCV\n",
    "\n",
    "param_grid = {'C': [10], \n",
    "              'gamma': [0.001],\n",
    "              'kernel': ['linear']} \n",
    "\n",
    "clf = GridSearchCV(SVC(), param_grid, verbose=3)\n",
    "clf.fit(temp, train['category'])"
   ]
  },
  {
   "cell_type": "markdown",
   "metadata": {},
   "source": [
    "<h2 align=right style=\"line-height:200%;font-family:vazir;color:#0099cc\">\n",
    "<font face=\"vazir\" color=\"#0099cc\">\n",
    "معیار ارزیابی\n",
    "</font>\n",
    "</h2>\n",
    "\n",
    "<p dir=rtl style=\"direction: rtl; text-align: justify; line-height:200%; font-family:vazir; font-size:medium\">\n",
    "<font face=\"vazir\" size=3>\n",
    "    معیاری که برای ارزیابی عملکرد مدل انتخاب کرده‌ایم، <code>F1-score</code> نام دارد و از رویکرد میانگین‌گیری وزن‌دار (<code dir=ltr>average='weighted'</code>) استفاده می‌شود.\n",
    "    <br>\n",
    "    پیشنهاد می‌شود با توجه به این معیار، عملکرد مدل خود را بر روی مجموعه‌ی آموزش یا اعتبارسنجی ارزیابی کنید و طبق نتایج به‌دست‌آمده پارامترهای مدل خود را بهتر تنظیم کنید.\n",
    "</font>\n",
    "</p>"
   ]
  },
  {
   "cell_type": "code",
   "execution_count": 15,
   "metadata": {},
   "outputs": [
    {
     "data": {
      "text/plain": [
       "0.9927085652394159"
      ]
     },
     "execution_count": 15,
     "metadata": {},
     "output_type": "execute_result"
    }
   ],
   "source": [
    "from sklearn.metrics import f1_score\n",
    "\n",
    "y_pred= txt_model.predict(tfidf.transform(train.title + ' ' + train.h1))\n",
    "prediction = f1_score(train['category'], y_pred, pos_label=1,average='weighted')\n",
    "prediction\n",
    "# To-Do"
   ]
  },
  {
   "cell_type": "code",
   "execution_count": 42,
   "metadata": {},
   "outputs": [
    {
     "data": {
      "text/plain": [
       "0.9949487188405146"
      ]
     },
     "execution_count": 42,
     "metadata": {},
     "output_type": "execute_result"
    }
   ],
   "source": [
    "from sklearn.metrics import f1_score\n",
    "\n",
    "y_pred= clf.predict(temp)\n",
    "prediction = f1_score(train['category'], y_pred, pos_label=1,average='weighted')\n",
    "prediction\n",
    "# To-Do"
   ]
  },
  {
   "cell_type": "markdown",
   "metadata": {},
   "source": [
    "<h2 align=right style=\"line-height:200%;font-family:vazir;color:#0099cc\">\n",
    "<font face=\"vazir\" color=\"#0099cc\">\n",
    " پیش‌بینی برای داده تست و خروجی\n",
    "</font>\n",
    "</h2>\n",
    "\n",
    "<p dir=rtl style=\"direction: rtl; text-align: justify; line-height:200%; font-family:vazir; font-size:medium\">\n",
    "<font face=\"vazir\" size=3>\n",
    "    پس از مهندسی ویژگی و مدل‌سازی، الگوریتمی دارید که می‌تواند شما را از متغیرهای مستقل به متغیر هدف برساند.\n",
    "    <br>\n",
    "    از این مدل برای پیش‌بینی نمونه‌های موجود در مجموعه‌ی آزمون استفاده کنید و نتایج را در یک دیتافریم تک‌ستونه با نام <code>submission</code> و در قالب زیر آماده کنید. توجه داشته باشید که ترتیب پیش‌بینی شما اهمیت دارد یعنی به عنوان مثال پیش‌بینی مدل برای نمونه‌ی آزمون <code>m</code> ام را باید در ردیف <code>m</code> ام این دیتافریم ذخیره کنید.\n",
    "</font>\n",
    "</p>"
   ]
  },
  {
   "cell_type": "markdown",
   "metadata": {},
   "source": [
    "<center>\n",
    "<div dir=rtl style=\"direction: rtl;line-height:200%;font-family:vazir;font-size:medium\">\n",
    "<font face=\"vazir\" size=3>\n",
    "    \n",
    "|ستون|توضیحات|\n",
    "|:------:|:---:|\n",
    "|<code>category</code>|پیش‌بینی مدل شما (از جنس رشته)|\n",
    "    \n",
    "</font>\n",
    "</div>\n",
    "</center>"
   ]
  },
  {
   "cell_type": "code",
   "execution_count": 45,
   "metadata": {},
   "outputs": [],
   "source": [
    "submission = pd.DataFrame()\n",
    "submission['category']= clf.predict(tfidf.transform(test.description + ' ' + test.title + ' ' + test.h1 + ' ' + test.h2))\n",
    "\n"
   ]
  },
  {
   "cell_type": "code",
   "execution_count": 46,
   "metadata": {},
   "outputs": [
    {
     "data": {
      "text/html": [
       "<div>\n",
       "<style scoped>\n",
       "    .dataframe tbody tr th:only-of-type {\n",
       "        vertical-align: middle;\n",
       "    }\n",
       "\n",
       "    .dataframe tbody tr th {\n",
       "        vertical-align: top;\n",
       "    }\n",
       "\n",
       "    .dataframe thead th {\n",
       "        text-align: right;\n",
       "    }\n",
       "</style>\n",
       "<table border=\"1\" class=\"dataframe\">\n",
       "  <thead>\n",
       "    <tr style=\"text-align: right;\">\n",
       "      <th></th>\n",
       "      <th>category</th>\n",
       "    </tr>\n",
       "  </thead>\n",
       "  <tbody>\n",
       "    <tr>\n",
       "      <th>0</th>\n",
       "      <td>هنر و سرگرمی</td>\n",
       "    </tr>\n",
       "    <tr>\n",
       "      <th>1</th>\n",
       "      <td>حقوق و دولت و سیاست</td>\n",
       "    </tr>\n",
       "    <tr>\n",
       "      <th>2</th>\n",
       "      <td>حقوق و دولت و سیاست</td>\n",
       "    </tr>\n",
       "    <tr>\n",
       "      <th>3</th>\n",
       "      <td>موسیقی</td>\n",
       "    </tr>\n",
       "    <tr>\n",
       "      <th>4</th>\n",
       "      <td>حقوق و دولت و سیاست</td>\n",
       "    </tr>\n",
       "  </tbody>\n",
       "</table>\n",
       "</div>"
      ],
      "text/plain": [
       "              category\n",
       "0         هنر و سرگرمی\n",
       "1  حقوق و دولت و سیاست\n",
       "2  حقوق و دولت و سیاست\n",
       "3               موسیقی\n",
       "4  حقوق و دولت و سیاست"
      ]
     },
     "execution_count": 46,
     "metadata": {},
     "output_type": "execute_result"
    }
   ],
   "source": [
    "submission['category'] = label_encoder.inverse_transform(submission['category'])\n",
    "submission.head()"
   ]
  },
  {
   "cell_type": "markdown",
   "metadata": {},
   "source": [
    "<h2 align=right style=\"line-height:200%;font-family:vazir;color:#0099cc\">\n",
    "<font face=\"vazir\" color=\"#0099cc\">\n",
    "<b>سلول جواب‌ساز</b>\n",
    "</font>\n",
    "</h2>\n",
    "\n",
    "<p dir=rtl style=\"direction: rtl; text-align: justify; line-height:200%; font-family:vazir; font-size:medium\">\n",
    "<font face=\"vazir\" size=3>\n",
    "    برای ساخته‌شدن فایل <code>result.zip</code> سلول زیر را اجرا کنید. توجه داشته باشید که پیش از اجرای سلول زیر تغییرات اعمال شده در نت‌بوک را ذخیره کرده باشید (<code>ctrl+s</code>) تا در صورت نیاز به پشتیبانی امکان بررسی کد شما وجود داشته باشد.\n",
    "</font>\n",
    "</p>"
   ]
  },
  {
   "cell_type": "code",
   "execution_count": 47,
   "metadata": {},
   "outputs": [
    {
     "name": "stdout",
     "output_type": "stream",
     "text": [
      "File Paths:\n",
      "['text_categorization.ipynb', 'submission.csv']\n"
     ]
    }
   ],
   "source": [
    "import zipfile\n",
    "import joblib\n",
    "\n",
    "def compress(file_names):\n",
    "    print(\"File Paths:\")\n",
    "    print(file_names)\n",
    "    compression = zipfile.ZIP_DEFLATED\n",
    "    with zipfile.ZipFile(\"result.zip\", mode=\"w\") as zf:\n",
    "        for file_name in file_names:\n",
    "            zf.write('./' + file_name, file_name, compress_type=compression)\n",
    "\n",
    "submission.to_csv('submission.csv', index=False)\n",
    "file_names = ['text_categorization.ipynb', 'submission.csv']\n",
    "compress(file_names)"
   ]
  },
  {
   "cell_type": "markdown",
   "metadata": {},
   "source": [
    "<h2 dir=rtl align=right style=\"line-height:200%;font-family:vazir;color:#0099cc\">\n",
    "<font face=\"vazir\" color=\"#0099cc\">\n",
    "💭 اضافه: ابرِ کلمات (Word Cloud)\n",
    "</font>\n",
    "</h2>\n",
    "\n",
    "<center>\n",
    "<img src=\"wordcloud.png\">\n",
    "</center>\n",
    "\n",
    "<p dir=rtl style=\"direction: rtl; text-align: justify; line-height:200%; font-family:vazir; font-size:medium\">\n",
    "<font face=\"vazir\" size=3>\n",
    "یکی از کتابخانه‌های بسیار جالب مرتبط با متن در پایتون، <a href=\"https://github.com/amueller/word_cloud\"><code>WordCloud</code></a> نام دارد. این کتابخانه به شما کمک می‌کند تا ابری از پرتکرارترین توکن‌های موجود در یک مجموعه‌متن را به شکلی زیبا به تصویر بکشید. خوشبختانه نسخه‌ی فارسی این کتابخانه نیز وجود دارد که می‌توانید از <a href=\"https://github.com/alihoseiny/word_cloud_fa\">این لینک</a> به صفحه‌ی گیت‌هاب آن مراجعه کنید. حتی می‌توانید به‌صورت دلخواه تصویری را تعیین کنید تا نمایش نهایی توکن‌ها تداعی‌کننده‌ی تصویر موردنظر شما باشد.\n",
    "</font>\n",
    "</p>"
   ]
  },
  {
   "cell_type": "code",
   "execution_count": null,
   "metadata": {},
   "outputs": [],
   "source": [
    "cloud_text = ''\n",
    "for text in X_train:\n",
    "    cloud_text += text + ' '"
   ]
  },
  {
   "cell_type": "code",
   "execution_count": null,
   "metadata": {},
   "outputs": [],
   "source": [
    "from wordcloud_fa import WordCloudFa\n",
    "\n",
    "wc = WordCloudFa(width=1200, height=800, persian_normalize=True, include_numbers=False, max_words=120, background_color='white', min_font_size=10, max_font_size=100)\n",
    "word_cloud = wc.generate(cloud_text)\n",
    "image = word_cloud.to_image()\n",
    "image.show()\n",
    "image.save('wordcloud.png')"
   ]
  },
  {
   "cell_type": "markdown",
   "metadata": {},
   "source": [
    "<h4 align=right style=\"line-height:200%;font-family:vazir;color:#0099cc\">\n",
    "<font face=\"vazir\" color=\"#0099cc\">\n",
    "<b>راهنمایی</b>\n",
    "</font>\n",
    "</h4>\n",
    "\n",
    "<p dir=rtl style=\"direction: rtl; text-align: justify; line-height:200%; font-family:vazir; font-size:medium\">\n",
    "<font face=\"vazir\" size=3>\n",
    "    ۱. از تکنیک n-gram کمک بگیرید.\n",
    "    <br>\n",
    "    ۲. توازن مجموعه‌داده را بررسی کنید.\n",
    "    <br>\n",
    "    ۳. در پیش‌پردازش خود می‌توانید حذف حروف اضافه و اعداد، حذف کلمات توقف، نرمال‌سازی و... را آزمایش کنید.\n",
    "</font>\n",
    "</p>"
   ]
  }
 ],
 "metadata": {
  "kernelspec": {
   "display_name": "Python 3 (ipykernel)",
   "language": "python",
   "name": "python3"
  },
  "language_info": {
   "codemirror_mode": {
    "name": "ipython",
    "version": 3
   },
   "file_extension": ".py",
   "mimetype": "text/x-python",
   "name": "python",
   "nbconvert_exporter": "python",
   "pygments_lexer": "ipython3",
   "version": "3.9.2"
  },
  "vscode": {
   "interpreter": {
    "hash": "b25290d91e68666390a3f16911fef54d65a01c351d921450f79ed6c4a91d0756"
   }
  }
 },
 "nbformat": 4,
 "nbformat_minor": 2
}
